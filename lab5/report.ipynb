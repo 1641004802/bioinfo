{
 "cells": [
  {
   "cell_type": "code",
   "execution_count": 1,
   "metadata": {},
   "outputs": [],
   "source": [
    "import torch as pt\n",
    "import torch.nn as nn"
   ]
  },
  {
   "cell_type": "code",
   "execution_count": 2,
   "metadata": {},
   "outputs": [],
   "source": [
    "class SelfAttention(nn.Module):\n",
    "    def __init__(self, d_m, d_k) -> None:\n",
    "        super(SelfAttention, self).__init__()\n",
    "        self.d_m = d_m\n",
    "        self.d_k = d_k\n",
    "        self.Wq = nn.Linear(in_features=self.d_m, out_features=self.d_k)\n",
    "        self.Wk = nn.Linear(in_features=self.d_m, out_features=self.d_k)\n",
    "        self.Wv = nn.Linear(in_features=self.d_m, out_features=self.d_k)\n",
    "\n",
    "    def forward(self, x):\n",
    "        q,k,v = self.Wq(x), self.Wk(x),self.Wv(x)\n",
    "        score = pt.einsum('nci, ncj -> nc',q,k)\n",
    "        score /= pt.sqrt(pt.tensor(self.d_k))\n",
    "        score = nn.functional.softmax(score, dim=-1)\n",
    "        out = v * score[:,:,None]\n",
    "        return out"
   ]
  },
  {
   "cell_type": "code",
   "execution_count": 10,
   "metadata": {},
   "outputs": [],
   "source": [
    "class MultiHeadSelfAttention(nn.Module):\n",
    "    def __init__(self, embed_dim, num_heads) -> None:\n",
    "        super(MultiHeadSelfAttention, self).__init__()\n",
    "        assert embed_dim % num_heads == 0, 'embed_dim must be divided by num_heads'\n",
    "        self.heads = nn.ModuleList([SelfAttention(embed_dim, embed_dim//num_heads) for _ in range(num_heads)])\n",
    "        self.Wo = nn.Linear(in_features=embed_dim, out_features=embed_dim)\n",
    "    \n",
    "    def forward(self, x):\n",
    "        Z = pt.cat([head(x) for head in self.heads], dim=-1)\n",
    "        return self.Wo(Z)\n",
    " \n",
    " \n",
    "''' example '''\n",
    "a = pt.randn(2, 3, 10)\n",
    "m = MultiHeadSelfAttention(10, 5)\n",
    "b = m(a)\n",
    "b"
   ]
  },
  {
   "cell_type": "code",
   "execution_count": null,
   "metadata": {},
   "outputs": [],
   "source": [
    "m=nn.MultiheadAttention(256,1)\n",
    "a=pt.randn(2,3,256)\n",
    "x,_=m(a,a,a)\n",
    "x"
   ]
  }
 ],
 "metadata": {
  "kernelspec": {
   "display_name": "cu121",
   "language": "python",
   "name": "python3"
  },
  "language_info": {
   "codemirror_mode": {
    "name": "ipython",
    "version": 3
   },
   "file_extension": ".py",
   "mimetype": "text/x-python",
   "name": "python",
   "nbconvert_exporter": "python",
   "pygments_lexer": "ipython3",
   "version": "3.11.4"
  }
 },
 "nbformat": 4,
 "nbformat_minor": 2
}
