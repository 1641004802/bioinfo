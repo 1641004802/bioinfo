{
 "cells": [
  {
   "cell_type": "code",
   "execution_count": 6,
   "metadata": {},
   "outputs": [],
   "source": [
    "# add your source codes regarding the data fllow here\n",
    "\n"
   ]
  },
  {
   "cell_type": "code",
   "execution_count": 2,
   "metadata": {},
   "outputs": [
    {
     "name": "stdout",
     "output_type": "stream",
     "text": [
      "tensor([[7, 8, 9, 1, 2, 3],\n",
      "        [4, 5, 6, 4, 5, 6],\n",
      "        [1, 2, 3, 7, 8, 9]])\n"
     ]
    }
   ],
   "source": [
    "import torch\n",
    "\n",
    "# 创建一个二维数组\n",
    "arr = torch.tensor([[1, 2, 3],\n",
    "                    [4, 5, 6],\n",
    "                    [7, 8, 9]])\n",
    "\n",
    "# 将第二维逆置并按行逆置\n",
    "reversed_arr = torch.cat((arr.flip(0),arr), dim=1)\n",
    "\n",
    "print(reversed_arr)\n"
   ]
  },
  {
   "cell_type": "code",
   "execution_count": 10,
   "metadata": {},
   "outputs": [
    {
     "name": "stdout",
     "output_type": "stream",
     "text": [
      "tensor([0, 1, 2, 3, 4, 5]) tensor([[0, 1, 2],\n",
      "        [3, 4, 5]])\n"
     ]
    }
   ],
   "source": [
    "import torch as pt\n",
    "a=pt.tensor([0,1,2])\n",
    "aa=pt.tensor([3,4,5])\n",
    "b=pt.cat((a,aa),dim=0)\n",
    "c=pt.stack((a,aa),dim=0)\n",
    "print(b,c)"
   ]
  }
 ],
 "metadata": {
  "kernelspec": {
   "display_name": "cu121",
   "language": "python",
   "name": "python3"
  },
  "language_info": {
   "codemirror_mode": {
    "name": "ipython",
    "version": 3
   },
   "file_extension": ".py",
   "mimetype": "text/x-python",
   "name": "python",
   "nbconvert_exporter": "python",
   "pygments_lexer": "ipython3",
   "version": "3.1.0"
  }
 },
 "nbformat": 4,
 "nbformat_minor": 2
}
