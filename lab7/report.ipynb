{
 "cells": [
  {
   "cell_type": "code",
   "execution_count": 6,
   "metadata": {},
   "outputs": [],
   "source": [
    "# add your source codes regarding the data fllow here\n",
    "from torch.nn import Linear, ReLU\n",
    "from torch_geometric.nn import Sequential, GCNConv\n",
    "import torch.nn as nn\n",
    "\n",
    "class ProteinGCN(nn.Module):\n",
    "    def __init__(self, in_channels, out_channels) -> None:\n",
    "        super().__init__()\n",
    "        self.model = Sequential('x, edge_index', [\n",
    "            (GCNConv(in_channels, 64), 'x, edge_index -> x'),\n",
    "            ReLU(inplace=True),\n",
    "            (GCNConv(64, 64), 'x, edge_index -> x'),\n",
    "            ReLU(inplace=True),\n",
    "            Linear(64, out_channels)\n",
    "        ])\n",
    "    def forward(self, data):\n",
    "        x, edge_index = data.x, data.edge_index\n",
    "        return self.model(x, edge_index)"
   ]
  },
  {
   "cell_type": "code",
   "execution_count": 8,
   "metadata": {},
   "outputs": [],
   "source": [
    "import torch\n",
    "from torch_geometric.data import Data\n",
    "edge_index = torch.tensor([[0, 1, 1, 2, 2, 3],\n",
    "                           [1, 0, 2, 1, 3, 2]], dtype=torch.long)\n",
    "x = torch.rand((4, 1))  # 4个节点，每个节点有5个特征\n",
    "\n",
    "data = Data(x=x, edge_index=edge_index)"
   ]
  },
  {
   "cell_type": "code",
   "execution_count": 9,
   "metadata": {},
   "outputs": [
    {
     "name": "stdout",
     "output_type": "stream",
     "text": [
      "torch.Size([4, 32])\n"
     ]
    }
   ],
   "source": [
    "model = ProteinGCN(in_channels=1, out_channels=32)\n",
    "output = model(data)\n",
    "print(output.shape)"
   ]
  }
 ],
 "metadata": {
  "kernelspec": {
   "display_name": "cu121",
   "language": "python",
   "name": "python3"
  },
  "language_info": {
   "codemirror_mode": {
    "name": "ipython",
    "version": 3
   },
   "file_extension": ".py",
   "mimetype": "text/x-python",
   "name": "python",
   "nbconvert_exporter": "python",
   "pygments_lexer": "ipython3",
   "version": "3.11.5"
  }
 },
 "nbformat": 4,
 "nbformat_minor": 2
}
