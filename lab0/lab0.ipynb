{
 "cells": [
  {
   "cell_type": "markdown",
   "id": "66e0c8ce",
   "metadata": {},
   "source": [
    "# Lab 0: Numpy on CPU v.s. Tensor on GPU\n",
    "\n",
    "- Complete the following tasks\n",
    "- Save and submit your Jupytor notebook\n",
    "\n",
    "## Numpy on CPU\n",
    "- Randomly generate the 3D coordinates of N=200 points (i.e., a Nx3 matrix) with Numpy\n",
    "- Calculate the pairwise distnace (i.e., a NxN matrix) between the generated N points using for loops\n",
    "- Calculate the pairwise distnace (i.e., a NxN matrix) between the generated N points using array broadcasting"
   ]
  },
  {
   "cell_type": "code",
   "execution_count": 1,
   "id": "09114964",
   "metadata": {
    "scrolled": true
   },
   "outputs": [
    {
     "name": "stdout",
     "output_type": "stream",
     "text": [
      "[[0.61865045 0.62448219 0.06845128]\n",
      " [0.54345478 0.5536324  0.26413391]\n",
      " [0.86490051 0.57572793 0.55436658]\n",
      " [0.14437755 0.15662917 0.33124073]\n",
      " [0.32667043 0.12132504 0.28861681]]\n"
     ]
    }
   ],
   "source": [
    "# Randomly generate the 3D coordinates of N=200 points (i.e., a Nx3 matrix) with Numpy\n",
    "\n",
    "import numpy as np\n",
    "\n",
    "N = 200\n",
    "coord = np.random.rand(N, 3)\n",
    "print(coord[:5])"
   ]
  },
  {
   "cell_type": "code",
   "execution_count": 3,
   "id": "500531c7",
   "metadata": {},
   "outputs": [
    {
     "name": "stdout",
     "output_type": "stream",
     "text": [
      "182 ms ± 39 ms per loop (mean ± std. dev. of 7 runs, 1 loop each)\n"
     ]
    }
   ],
   "source": [
    "# Calculate the pairwise distnace (i.e., a NxN matrix) between the generated N points using for loops\n",
    "\n",
    "def loop(coord):\n",
    "    # add your codes here\n",
    "    distance=np.empty([N,N])\n",
    "    for i in range(N):\n",
    "        for j in range(N):\n",
    "            distance[i][j]=np.sqrt(np.sum((coord[i]-coord[j])**2))\n",
    "    return distance\n",
    "%timeit loop(coord)"
   ]
  },
  {
   "cell_type": "code",
   "execution_count": 4,
   "id": "289dd9bc",
   "metadata": {},
   "outputs": [
    {
     "name": "stdout",
     "output_type": "stream",
     "text": [
      "1.05 ms ± 1.48 µs per loop (mean ± std. dev. of 7 runs, 1,000 loops each)\n"
     ]
    }
   ],
   "source": [
    "# Calculate the pairwise distnace (i.e., a NxN matrix) between the generated N points using array broadcasting\n",
    "\n",
    "def broadcast(coord):\n",
    "    # add your codes here\n",
    "    distance=np.sqrt(np.sum((coord[np.newaxis,:,:]-coord[:,np.newaxis,:])**2,axis=-1))\n",
    "    return distance\n",
    "%timeit broadcast(coord)"
   ]
  },
  {
   "cell_type": "markdown",
   "id": "7c42ca20",
   "metadata": {},
   "source": [
    "## Tensor on GPU\n",
    "- Repeat the above steps with PyTorch (instead of Numpy) on a GPU (instead of CPU)"
   ]
  },
  {
   "cell_type": "code",
   "execution_count": 5,
   "id": "edd841e4",
   "metadata": {},
   "outputs": [
    {
     "name": "stdout",
     "output_type": "stream",
     "text": [
      "#device: 4\n",
      "tensor([[0.4729, 0.9713, 0.6328],\n",
      "        [0.5109, 0.6798, 0.1906],\n",
      "        [0.7616, 0.0803, 0.0258],\n",
      "        [0.6367, 0.1036, 0.0338],\n",
      "        [0.9235, 0.6887, 0.7858]])\n"
     ]
    }
   ],
   "source": [
    "# Randomly generate the 3D coordinates of N=200 points (i.e., a Nx3 matrix) with PyTorch\n",
    "\n",
    "import random\n",
    "import torch as pt\n",
    "\n",
    "dev = random.randint(0, pt.cuda.device_count()-1)\n",
    "pt.cuda.set_device(dev)\n",
    "print('#device:', dev)\n",
    "\n",
    "N = 200\n",
    "coord = pt.rand(N, 3)\n",
    "print(coord[:5])"
   ]
  },
  {
   "cell_type": "code",
   "execution_count": 6,
   "id": "1780e753",
   "metadata": {},
   "outputs": [
    {
     "name": "stdout",
     "output_type": "stream",
     "text": [
      "889 ms ± 2.25 ms per loop (mean ± std. dev. of 7 runs, 1 loop each)\n"
     ]
    }
   ],
   "source": [
    "# Calculate the pairwise distnace (i.e., a NxN matrix) between the generated N points using for loops\n",
    "\n",
    "def loop(coord):\n",
    "    # add your codes here\n",
    "    distance=pt.empty([N,N])\n",
    "    for i in range(N):\n",
    "        for j in range(N):\n",
    "            distance[i][j]=pt.sqrt(pt.sum((coord[i]-coord[j])**2))\n",
    "    return distance\n",
    "%timeit loop(coord)"
   ]
  },
  {
   "cell_type": "code",
   "execution_count": 9,
   "id": "b8069ff3",
   "metadata": {},
   "outputs": [
    {
     "name": "stdout",
     "output_type": "stream",
     "text": [
      "343 µs ± 14.6 µs per loop (mean ± std. dev. of 7 runs, 1,000 loops each)\n"
     ]
    }
   ],
   "source": [
    "# Calculate the pairwise distnace (i.e., a NxN matrix) between the generated N points using array broadcasting\n",
    "\n",
    "def broadcast(coord):\n",
    "    # add your codes here\n",
    "    distance=pt.sqrt(pt.sum((coord[None,:,:]-coord[:,None,:])**2,dim=-1))\n",
    "    return distance\n",
    "%timeit broadcast(coord)"
   ]
  },
  {
   "cell_type": "markdown",
   "id": "d557ae0a",
   "metadata": {},
   "source": [
    "# Question\n",
    "\n",
    "- Compare the running time of the above two approaches with different values of N\n",
    "- Describe your key observation, and explain why it happened\n",
    "\n",
    "Add your answers here"
   ]
  },
  {
   "cell_type": "markdown",
   "id": "1707ad21",
   "metadata": {},
   "source": [
    "\n",
    "广播机制要优于传统的循环"
   ]
  }
 ],
 "metadata": {
  "kernelspec": {
   "display_name": "Python 3 (ipykernel)",
   "language": "python",
   "name": "python3"
  },
  "language_info": {
   "codemirror_mode": {
    "name": "ipython",
    "version": 3
   },
   "file_extension": ".py",
   "mimetype": "text/x-python",
   "name": "python",
   "nbconvert_exporter": "python",
   "pygments_lexer": "ipython3",
   "version": "3.9.18"
  }
 },
 "nbformat": 4,
 "nbformat_minor": 5
}
